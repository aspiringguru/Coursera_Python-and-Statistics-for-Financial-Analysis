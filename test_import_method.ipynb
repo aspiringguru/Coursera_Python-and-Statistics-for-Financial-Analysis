{
 "cells": [
  {
   "cell_type": "code",
   "execution_count": 1,
   "metadata": {},
   "outputs": [],
   "source": [
    "from MyCustom import getDailyHistoricalPrices"
   ]
  },
  {
   "cell_type": "code",
   "execution_count": 2,
   "metadata": {},
   "outputs": [
    {
     "name": "stdout",
     "output_type": "stream",
     "text": [
      "<class 'pandas.core.frame.DataFrame'>\n",
      "(252, 8)\n"
     ]
    },
    {
     "data": {
      "text/html": [
       "<div>\n",
       "<style scoped>\n",
       "    .dataframe tbody tr th:only-of-type {\n",
       "        vertical-align: middle;\n",
       "    }\n",
       "\n",
       "    .dataframe tbody tr th {\n",
       "        vertical-align: top;\n",
       "    }\n",
       "\n",
       "    .dataframe thead th {\n",
       "        text-align: right;\n",
       "    }\n",
       "</style>\n",
       "<table border=\"1\" class=\"dataframe\">\n",
       "  <thead>\n",
       "    <tr style=\"text-align: right;\">\n",
       "      <th></th>\n",
       "      <th>Adj Close</th>\n",
       "      <th>Close</th>\n",
       "      <th>date</th>\n",
       "      <th>Date</th>\n",
       "      <th>High</th>\n",
       "      <th>Low</th>\n",
       "      <th>Open</th>\n",
       "      <th>Volume</th>\n",
       "    </tr>\n",
       "  </thead>\n",
       "  <tbody>\n",
       "    <tr>\n",
       "      <th>0</th>\n",
       "      <td>17.499147</td>\n",
       "      <td>20.051428</td>\n",
       "      <td>1221485400</td>\n",
       "      <td>2008-09-15</td>\n",
       "      <td>21.098572</td>\n",
       "      <td>20.051428</td>\n",
       "      <td>20.290001</td>\n",
       "      <td>230158600</td>\n",
       "    </tr>\n",
       "    <tr>\n",
       "      <th>1</th>\n",
       "      <td>17.439302</td>\n",
       "      <td>19.982857</td>\n",
       "      <td>1221571800</td>\n",
       "      <td>2008-09-16</td>\n",
       "      <td>20.357143</td>\n",
       "      <td>18.878571</td>\n",
       "      <td>19.122858</td>\n",
       "      <td>299959100</td>\n",
       "    </tr>\n",
       "    <tr>\n",
       "      <th>2</th>\n",
       "      <td>15.936990</td>\n",
       "      <td>18.261429</td>\n",
       "      <td>1221658200</td>\n",
       "      <td>2008-09-17</td>\n",
       "      <td>19.787144</td>\n",
       "      <td>18.261429</td>\n",
       "      <td>19.784286</td>\n",
       "      <td>300113800</td>\n",
       "    </tr>\n",
       "    <tr>\n",
       "      <th>3</th>\n",
       "      <td>16.717442</td>\n",
       "      <td>19.155714</td>\n",
       "      <td>1221744600</td>\n",
       "      <td>2008-09-18</td>\n",
       "      <td>19.347143</td>\n",
       "      <td>17.240000</td>\n",
       "      <td>18.652857</td>\n",
       "      <td>419063400</td>\n",
       "    </tr>\n",
       "    <tr>\n",
       "      <th>4</th>\n",
       "      <td>17.567715</td>\n",
       "      <td>20.129999</td>\n",
       "      <td>1221831000</td>\n",
       "      <td>2008-09-19</td>\n",
       "      <td>20.600000</td>\n",
       "      <td>19.472857</td>\n",
       "      <td>20.371429</td>\n",
       "      <td>357718900</td>\n",
       "    </tr>\n",
       "  </tbody>\n",
       "</table>\n",
       "</div>"
      ],
      "text/plain": [
       "   Adj Close      Close        date        Date       High        Low  \\\n",
       "0  17.499147  20.051428  1221485400  2008-09-15  21.098572  20.051428   \n",
       "1  17.439302  19.982857  1221571800  2008-09-16  20.357143  18.878571   \n",
       "2  15.936990  18.261429  1221658200  2008-09-17  19.787144  18.261429   \n",
       "3  16.717442  19.155714  1221744600  2008-09-18  19.347143  17.240000   \n",
       "4  17.567715  20.129999  1221831000  2008-09-19  20.600000  19.472857   \n",
       "\n",
       "        Open     Volume  \n",
       "0  20.290001  230158600  \n",
       "1  19.122858  299959100  \n",
       "2  19.784286  300113800  \n",
       "3  18.652857  419063400  \n",
       "4  20.371429  357718900  "
      ]
     },
     "execution_count": 2,
     "metadata": {},
     "output_type": "execute_result"
    }
   ],
   "source": [
    "results = getDailyHistoricalPrices('AAPL', '2008-09-15', '2009-09-15')\n",
    "print(type(results))\n",
    "print(results.shape)\n",
    "results.head()"
   ]
  },
  {
   "cell_type": "code",
   "execution_count": null,
   "metadata": {},
   "outputs": [],
   "source": []
  }
 ],
 "metadata": {
  "kernelspec": {
   "display_name": "Python 3",
   "language": "python",
   "name": "python3"
  },
  "language_info": {
   "codemirror_mode": {
    "name": "ipython",
    "version": 3
   },
   "file_extension": ".py",
   "mimetype": "text/x-python",
   "name": "python",
   "nbconvert_exporter": "python",
   "pygments_lexer": "ipython3",
   "version": "3.7.3"
  }
 },
 "nbformat": 4,
 "nbformat_minor": 2
}
