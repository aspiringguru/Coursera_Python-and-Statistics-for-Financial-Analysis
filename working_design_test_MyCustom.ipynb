{
 "cells": [
  {
   "cell_type": "code",
   "execution_count": 8,
   "metadata": {},
   "outputs": [],
   "source": [
    "import sys\n",
    "#display python version \n",
    "sys.version_info\n",
    "from yahoofinancials import YahooFinancials\n",
    "import pandas as pd"
   ]
  },
  {
   "cell_type": "code",
   "execution_count": 6,
   "metadata": {},
   "outputs": [],
   "source": [
    "ticker = 'AAPL'\n",
    "yahoo_financials = YahooFinancials(ticker)\n",
    "\n",
    "historical_stock_prices = yahoo_financials.get_historical_price_data('2008-09-15', '2018-09-15', 'weekly')"
   ]
  },
  {
   "cell_type": "code",
   "execution_count": 9,
   "metadata": {},
   "outputs": [
    {
     "data": {
      "text/plain": [
       "dict"
      ]
     },
     "execution_count": 9,
     "metadata": {},
     "output_type": "execute_result"
    }
   ],
   "source": [
    "type(historical_stock_prices)"
   ]
  },
  {
   "cell_type": "code",
   "execution_count": 2,
   "metadata": {},
   "outputs": [],
   "source": [
    "#historical_stock_prices"
   ]
  },
  {
   "cell_type": "code",
   "execution_count": 12,
   "metadata": {},
   "outputs": [
    {
     "data": {
      "text/plain": [
       "dict_keys(['eventsData', 'firstTradeDate', 'currency', 'instrumentType', 'timeZone', 'prices'])"
      ]
     },
     "execution_count": 12,
     "metadata": {},
     "output_type": "execute_result"
    }
   ],
   "source": [
    "historical_stock_prices['AAPL'].keys()"
   ]
  },
  {
   "cell_type": "code",
   "execution_count": 1,
   "metadata": {},
   "outputs": [],
   "source": [
    "#historical_stock_prices['AAPL']['prices']"
   ]
  },
  {
   "cell_type": "code",
   "execution_count": 21,
   "metadata": {},
   "outputs": [
    {
     "name": "stdout",
     "output_type": "stream",
     "text": [
      "<class 'pandas.core.frame.DataFrame'>\n",
      "stock_prices.shape: (522, 8)\n",
      "stock_prices.shape: (522, 7)\n",
      "0    2008-09-15\n",
      "1    2008-09-22\n",
      "2    2008-09-29\n",
      "3    2008-10-06\n",
      "4    2008-10-13\n",
      "Name: formatted_date, dtype: object\n"
     ]
    },
    {
     "data": {
      "text/html": [
       "<div>\n",
       "<style scoped>\n",
       "    .dataframe tbody tr th:only-of-type {\n",
       "        vertical-align: middle;\n",
       "    }\n",
       "\n",
       "    .dataframe tbody tr th {\n",
       "        vertical-align: top;\n",
       "    }\n",
       "\n",
       "    .dataframe thead th {\n",
       "        text-align: right;\n",
       "    }\n",
       "</style>\n",
       "<table border=\"1\" class=\"dataframe\">\n",
       "  <thead>\n",
       "    <tr style=\"text-align: right;\">\n",
       "      <th></th>\n",
       "      <th>adjclose</th>\n",
       "      <th>close</th>\n",
       "      <th>formatted_date</th>\n",
       "      <th>high</th>\n",
       "      <th>low</th>\n",
       "      <th>open</th>\n",
       "      <th>volume</th>\n",
       "    </tr>\n",
       "  </thead>\n",
       "  <tbody>\n",
       "    <tr>\n",
       "      <th>0</th>\n",
       "      <td>17.567715</td>\n",
       "      <td>20.129999</td>\n",
       "      <td>2008-09-15</td>\n",
       "      <td>21.098572</td>\n",
       "      <td>17.240000</td>\n",
       "      <td>20.290001</td>\n",
       "      <td>1607013800</td>\n",
       "    </tr>\n",
       "    <tr>\n",
       "      <th>1</th>\n",
       "      <td>15.988110</td>\n",
       "      <td>18.320000</td>\n",
       "      <td>2008-09-22</td>\n",
       "      <td>20.035715</td>\n",
       "      <td>17.571428</td>\n",
       "      <td>19.991428</td>\n",
       "      <td>1329147400</td>\n",
       "    </tr>\n",
       "    <tr>\n",
       "      <th>2</th>\n",
       "      <td>12.102037</td>\n",
       "      <td>13.867143</td>\n",
       "      <td>2008-09-29</td>\n",
       "      <td>17.097143</td>\n",
       "      <td>13.521428</td>\n",
       "      <td>17.088572</td>\n",
       "      <td>2362246600</td>\n",
       "    </tr>\n",
       "    <tr>\n",
       "      <th>3</th>\n",
       "      <td>12.068378</td>\n",
       "      <td>13.828571</td>\n",
       "      <td>2008-10-06</td>\n",
       "      <td>14.500000</td>\n",
       "      <td>12.142858</td>\n",
       "      <td>13.137143</td>\n",
       "      <td>2507653400</td>\n",
       "    </tr>\n",
       "    <tr>\n",
       "      <th>4</th>\n",
       "      <td>12.143184</td>\n",
       "      <td>13.914286</td>\n",
       "      <td>2008-10-13</td>\n",
       "      <td>16.628571</td>\n",
       "      <td>12.270000</td>\n",
       "      <td>14.935715</td>\n",
       "      <td>2211748700</td>\n",
       "    </tr>\n",
       "  </tbody>\n",
       "</table>\n",
       "</div>"
      ],
      "text/plain": [
       "    adjclose      close formatted_date       high        low       open  \\\n",
       "0  17.567715  20.129999     2008-09-15  21.098572  17.240000  20.290001   \n",
       "1  15.988110  18.320000     2008-09-22  20.035715  17.571428  19.991428   \n",
       "2  12.102037  13.867143     2008-09-29  17.097143  13.521428  17.088572   \n",
       "3  12.068378  13.828571     2008-10-06  14.500000  12.142858  13.137143   \n",
       "4  12.143184  13.914286     2008-10-13  16.628571  12.270000  14.935715   \n",
       "\n",
       "       volume  \n",
       "0  1607013800  \n",
       "1  1329147400  \n",
       "2  2362246600  \n",
       "3  2507653400  \n",
       "4  2211748700  "
      ]
     },
     "execution_count": 21,
     "metadata": {},
     "output_type": "execute_result"
    }
   ],
   "source": [
    "stock_prices = pd.DataFrame.from_dict(historical_stock_prices['AAPL']['prices'])\n",
    "print(type(stock_prices))\n",
    "print(\"stock_prices.shape:\", stock_prices.shape)\n",
    "stock_prices.drop(['date'], axis=1, inplace=True)\n",
    "print(\"stock_prices.shape:\", stock_prices.shape)\n",
    "print(stock_prices['formatted_date'].head())\n",
    "stock_prices.head()"
   ]
  },
  {
   "cell_type": "code",
   "execution_count": 22,
   "metadata": {},
   "outputs": [
    {
     "data": {
      "text/html": [
       "<div>\n",
       "<style scoped>\n",
       "    .dataframe tbody tr th:only-of-type {\n",
       "        vertical-align: middle;\n",
       "    }\n",
       "\n",
       "    .dataframe tbody tr th {\n",
       "        vertical-align: top;\n",
       "    }\n",
       "\n",
       "    .dataframe thead th {\n",
       "        text-align: right;\n",
       "    }\n",
       "</style>\n",
       "<table border=\"1\" class=\"dataframe\">\n",
       "  <thead>\n",
       "    <tr style=\"text-align: right;\">\n",
       "      <th></th>\n",
       "      <th>Adj Close</th>\n",
       "      <th>Close</th>\n",
       "      <th>Date</th>\n",
       "      <th>High</th>\n",
       "      <th>Low</th>\n",
       "      <th>Open</th>\n",
       "      <th>Volume</th>\n",
       "    </tr>\n",
       "  </thead>\n",
       "  <tbody>\n",
       "    <tr>\n",
       "      <th>0</th>\n",
       "      <td>17.567715</td>\n",
       "      <td>20.129999</td>\n",
       "      <td>2008-09-15</td>\n",
       "      <td>21.098572</td>\n",
       "      <td>17.240000</td>\n",
       "      <td>20.290001</td>\n",
       "      <td>1607013800</td>\n",
       "    </tr>\n",
       "    <tr>\n",
       "      <th>1</th>\n",
       "      <td>15.988110</td>\n",
       "      <td>18.320000</td>\n",
       "      <td>2008-09-22</td>\n",
       "      <td>20.035715</td>\n",
       "      <td>17.571428</td>\n",
       "      <td>19.991428</td>\n",
       "      <td>1329147400</td>\n",
       "    </tr>\n",
       "    <tr>\n",
       "      <th>2</th>\n",
       "      <td>12.102037</td>\n",
       "      <td>13.867143</td>\n",
       "      <td>2008-09-29</td>\n",
       "      <td>17.097143</td>\n",
       "      <td>13.521428</td>\n",
       "      <td>17.088572</td>\n",
       "      <td>2362246600</td>\n",
       "    </tr>\n",
       "    <tr>\n",
       "      <th>3</th>\n",
       "      <td>12.068378</td>\n",
       "      <td>13.828571</td>\n",
       "      <td>2008-10-06</td>\n",
       "      <td>14.500000</td>\n",
       "      <td>12.142858</td>\n",
       "      <td>13.137143</td>\n",
       "      <td>2507653400</td>\n",
       "    </tr>\n",
       "    <tr>\n",
       "      <th>4</th>\n",
       "      <td>12.143184</td>\n",
       "      <td>13.914286</td>\n",
       "      <td>2008-10-13</td>\n",
       "      <td>16.628571</td>\n",
       "      <td>12.270000</td>\n",
       "      <td>14.935715</td>\n",
       "      <td>2211748700</td>\n",
       "    </tr>\n",
       "  </tbody>\n",
       "</table>\n",
       "</div>"
      ],
      "text/plain": [
       "   Adj Close      Close        Date       High        Low       Open  \\\n",
       "0  17.567715  20.129999  2008-09-15  21.098572  17.240000  20.290001   \n",
       "1  15.988110  18.320000  2008-09-22  20.035715  17.571428  19.991428   \n",
       "2  12.102037  13.867143  2008-09-29  17.097143  13.521428  17.088572   \n",
       "3  12.068378  13.828571  2008-10-06  14.500000  12.142858  13.137143   \n",
       "4  12.143184  13.914286  2008-10-13  16.628571  12.270000  14.935715   \n",
       "\n",
       "       Volume  \n",
       "0  1607013800  \n",
       "1  1329147400  \n",
       "2  2362246600  \n",
       "3  2507653400  \n",
       "4  2211748700  "
      ]
     },
     "execution_count": 22,
     "metadata": {},
     "output_type": "execute_result"
    }
   ],
   "source": [
    "#old col names = \"adjclose\", \"close\", \"formatted_date\", \"high\", \"low\" \"open\" \"volume\"\n",
    "#new col names = \"Date\", \"Open\", \"High\", \"Low\", \"Close\", \"Adj Close\", \"Volume\" \n",
    "stock_prices.rename(columns={\"formatted_date\": \"Date\", \"open\": \"Open\", \"volume\": \"Volume\", \"adjclose\": \"Adj Close\", \"high\": \"High\", \"close\": \"Close\", \"low\": \"Low\"},  inplace=True)\n",
    "stock_prices.head(5)"
   ]
  },
  {
   "cell_type": "code",
   "execution_count": 9,
   "metadata": {},
   "outputs": [],
   "source": [
    "def getDailyHistoricalPrices(stockCode, startDate, endDate):\n",
    "    yahoo_financials = YahooFinancials(stockCode)\n",
    "    historical_stock_prices = yahoo_financials.get_historical_price_data(startDate, endDate, 'daily')\n",
    "    stock_prices = pd.DataFrame.from_dict(historical_stock_prices[stockCode]['prices'])\n",
    "    stock_prices.rename(columns={\"formatted_date\": \"Date\", \"open\": \"Open\", \"volume\": \"Volume\", \"adjclose\": \"Adj Close\", \"high\": \"High\", \"close\": \"Close\", \"low\": \"Low\"},  inplace=True)\n",
    "    return stock_prices"
   ]
  },
  {
   "cell_type": "code",
   "execution_count": 11,
   "metadata": {},
   "outputs": [
    {
     "name": "stdout",
     "output_type": "stream",
     "text": [
      "<class 'pandas.core.frame.DataFrame'>\n",
      "(252, 8)\n"
     ]
    },
    {
     "data": {
      "text/html": [
       "<div>\n",
       "<style scoped>\n",
       "    .dataframe tbody tr th:only-of-type {\n",
       "        vertical-align: middle;\n",
       "    }\n",
       "\n",
       "    .dataframe tbody tr th {\n",
       "        vertical-align: top;\n",
       "    }\n",
       "\n",
       "    .dataframe thead th {\n",
       "        text-align: right;\n",
       "    }\n",
       "</style>\n",
       "<table border=\"1\" class=\"dataframe\">\n",
       "  <thead>\n",
       "    <tr style=\"text-align: right;\">\n",
       "      <th></th>\n",
       "      <th>Adj Close</th>\n",
       "      <th>Close</th>\n",
       "      <th>date</th>\n",
       "      <th>Date</th>\n",
       "      <th>High</th>\n",
       "      <th>Low</th>\n",
       "      <th>Open</th>\n",
       "      <th>Volume</th>\n",
       "    </tr>\n",
       "  </thead>\n",
       "  <tbody>\n",
       "    <tr>\n",
       "      <th>0</th>\n",
       "      <td>17.499147</td>\n",
       "      <td>20.051428</td>\n",
       "      <td>1221485400</td>\n",
       "      <td>2008-09-15</td>\n",
       "      <td>21.098572</td>\n",
       "      <td>20.051428</td>\n",
       "      <td>20.290001</td>\n",
       "      <td>230158600</td>\n",
       "    </tr>\n",
       "    <tr>\n",
       "      <th>1</th>\n",
       "      <td>17.439302</td>\n",
       "      <td>19.982857</td>\n",
       "      <td>1221571800</td>\n",
       "      <td>2008-09-16</td>\n",
       "      <td>20.357143</td>\n",
       "      <td>18.878571</td>\n",
       "      <td>19.122858</td>\n",
       "      <td>299959100</td>\n",
       "    </tr>\n",
       "    <tr>\n",
       "      <th>2</th>\n",
       "      <td>15.936990</td>\n",
       "      <td>18.261429</td>\n",
       "      <td>1221658200</td>\n",
       "      <td>2008-09-17</td>\n",
       "      <td>19.787144</td>\n",
       "      <td>18.261429</td>\n",
       "      <td>19.784286</td>\n",
       "      <td>300113800</td>\n",
       "    </tr>\n",
       "    <tr>\n",
       "      <th>3</th>\n",
       "      <td>16.717442</td>\n",
       "      <td>19.155714</td>\n",
       "      <td>1221744600</td>\n",
       "      <td>2008-09-18</td>\n",
       "      <td>19.347143</td>\n",
       "      <td>17.240000</td>\n",
       "      <td>18.652857</td>\n",
       "      <td>419063400</td>\n",
       "    </tr>\n",
       "    <tr>\n",
       "      <th>4</th>\n",
       "      <td>17.567715</td>\n",
       "      <td>20.129999</td>\n",
       "      <td>1221831000</td>\n",
       "      <td>2008-09-19</td>\n",
       "      <td>20.600000</td>\n",
       "      <td>19.472857</td>\n",
       "      <td>20.371429</td>\n",
       "      <td>357718900</td>\n",
       "    </tr>\n",
       "  </tbody>\n",
       "</table>\n",
       "</div>"
      ],
      "text/plain": [
       "   Adj Close      Close        date        Date       High        Low  \\\n",
       "0  17.499147  20.051428  1221485400  2008-09-15  21.098572  20.051428   \n",
       "1  17.439302  19.982857  1221571800  2008-09-16  20.357143  18.878571   \n",
       "2  15.936990  18.261429  1221658200  2008-09-17  19.787144  18.261429   \n",
       "3  16.717442  19.155714  1221744600  2008-09-18  19.347143  17.240000   \n",
       "4  17.567715  20.129999  1221831000  2008-09-19  20.600000  19.472857   \n",
       "\n",
       "        Open     Volume  \n",
       "0  20.290001  230158600  \n",
       "1  19.122858  299959100  \n",
       "2  19.784286  300113800  \n",
       "3  18.652857  419063400  \n",
       "4  20.371429  357718900  "
      ]
     },
     "execution_count": 11,
     "metadata": {},
     "output_type": "execute_result"
    }
   ],
   "source": [
    "results = getDailyHistoricalPrices('AAPL', '2008-09-15', '2009-09-15')\n",
    "print(type(results))\n",
    "print(results.shape)\n",
    "results.head()"
   ]
  },
  {
   "cell_type": "code",
   "execution_count": null,
   "metadata": {},
   "outputs": [],
   "source": []
  }
 ],
 "metadata": {
  "kernelspec": {
   "display_name": "Python 3",
   "language": "python",
   "name": "python3"
  },
  "language_info": {
   "codemirror_mode": {
    "name": "ipython",
    "version": 3
   },
   "file_extension": ".py",
   "mimetype": "text/x-python",
   "name": "python",
   "nbconvert_exporter": "python",
   "pygments_lexer": "ipython3",
   "version": "3.7.3"
  }
 },
 "nbformat": 4,
 "nbformat_minor": 2
}
